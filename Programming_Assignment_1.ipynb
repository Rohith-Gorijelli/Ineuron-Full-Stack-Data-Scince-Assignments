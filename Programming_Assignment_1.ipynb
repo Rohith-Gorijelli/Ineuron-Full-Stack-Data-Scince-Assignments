{
 "cells": [
  {
   "cell_type": "code",
   "execution_count": 1,
   "id": "abba7b7b",
   "metadata": {},
   "outputs": [
    {
     "name": "stdout",
     "output_type": "stream",
     "text": [
      "Hello Python\n"
     ]
    }
   ],
   "source": [
    "#1. Write a Python program to print &quot;Hello Python&quot;?\n",
    "print('Hello Python')"
   ]
  },
  {
   "cell_type": "code",
   "execution_count": 11,
   "id": "a9daab71",
   "metadata": {},
   "outputs": [
    {
     "name": "stdout",
     "output_type": "stream",
     "text": [
      "enter first value\n",
      "10\n",
      "enter second value\n",
      "20\n"
     ]
    },
    {
     "data": {
      "text/plain": [
       "30"
      ]
     },
     "execution_count": 11,
     "metadata": {},
     "output_type": "execute_result"
    }
   ],
   "source": [
    "#2. Write a Python program to do arithmetical operations addition and division.?\n",
    "print('enter first value')\n",
    "a = int(input())\n",
    "print('enter second value')\n",
    "b = int(input())\n",
    "def add(a,b):\n",
    "    c = a + b\n",
    "    return c\n",
    "def div(a,b):\n",
    "    c =  a/b\n",
    "    return c\n",
    "add(a,b)\n"
   ]
  },
  {
   "cell_type": "code",
   "execution_count": 12,
   "id": "12c0fcb7",
   "metadata": {},
   "outputs": [
    {
     "data": {
      "text/plain": [
       "0.5"
      ]
     },
     "execution_count": 12,
     "metadata": {},
     "output_type": "execute_result"
    }
   ],
   "source": [
    "div(a,b)\n"
   ]
  },
  {
   "cell_type": "code",
   "execution_count": 17,
   "id": "f33f06e3",
   "metadata": {},
   "outputs": [
    {
     "name": "stdout",
     "output_type": "stream",
     "text": [
      "enter base value\n",
      "20\n",
      "enter height value\n",
      "20\n"
     ]
    },
    {
     "data": {
      "text/plain": [
       "200.0"
      ]
     },
     "execution_count": 17,
     "metadata": {},
     "output_type": "execute_result"
    }
   ],
   "source": [
    "#3. Write a Python program to find the area of a triangle?\n",
    "\n",
    "# formalue = 0.5 * base* height\n",
    "print('enter base value')\n",
    "base = int(input())\n",
    "print('enter height value')\n",
    "height = int(input())\n",
    "def area_triangle(base,height):\n",
    "    area = (height*base)*0.5\n",
    "    return area\n",
    "\n",
    "area_triangle(base,height)"
   ]
  },
  {
   "cell_type": "code",
   "execution_count": 24,
   "id": "c79c7174",
   "metadata": {},
   "outputs": [
    {
     "name": "stdout",
     "output_type": "stream",
     "text": [
      "30\n",
      "10\n"
     ]
    }
   ],
   "source": [
    "#Write a Python program to swap two variables?\n",
    "a = 10\n",
    "b = 30\n",
    "#my code goes here:\n",
    "c = 0\n",
    "c = b\n",
    "b = a\n",
    "a = c\n",
    "print(a)\n",
    "print (b)\n",
    "\n",
    "#initial values of a = 10, b= 30 after swapping a = 30 , b = 10"
   ]
  },
  {
   "cell_type": "code",
   "execution_count": 34,
   "id": "6194d083",
   "metadata": {},
   "outputs": [
    {
     "name": "stdout",
     "output_type": "stream",
     "text": [
      "0.6109726561820494\n"
     ]
    }
   ],
   "source": [
    "#5. Write a Python program to generate a random number?\n",
    "import random\n",
    "value = random.random()\n",
    "print (value)"
   ]
  },
  {
   "cell_type": "code",
   "execution_count": null,
   "id": "b3678338",
   "metadata": {},
   "outputs": [],
   "source": []
  },
  {
   "cell_type": "code",
   "execution_count": null,
   "id": "309c51cd",
   "metadata": {},
   "outputs": [],
   "source": []
  }
 ],
 "metadata": {
  "kernelspec": {
   "display_name": "Python 3 (ipykernel)",
   "language": "python",
   "name": "python3"
  },
  "language_info": {
   "codemirror_mode": {
    "name": "ipython",
    "version": 3
   },
   "file_extension": ".py",
   "mimetype": "text/x-python",
   "name": "python",
   "nbconvert_exporter": "python",
   "pygments_lexer": "ipython3",
   "version": "3.10.9"
  }
 },
 "nbformat": 4,
 "nbformat_minor": 5
}
