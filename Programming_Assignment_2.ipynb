{
 "cells": [
  {
   "cell_type": "code",
   "execution_count": 9,
   "id": "4c662d40",
   "metadata": {},
   "outputs": [
    {
     "name": "stdout",
     "output_type": "stream",
     "text": [
      "enter the value of kilometers to be converted\n",
      "10\n",
      "6.2137119\n",
      "10 Kilometers is equal to 6.2137119 Miles\n"
     ]
    }
   ],
   "source": [
    "#1. Write a Python program to convert kilometers to miles?\n",
    "print('enter the value of kilometers to be converted')\n",
    "Kilometers = int(input())\n",
    "Miles = Kilometers * (0.62137119)\n",
    "K = str(Kilometers)\n",
    "M = str(Miles)\n",
    "print(Miles)\n",
    "print (K + ' Kilometers is equal to '+ M+ ' Miles')"
   ]
  },
  {
   "cell_type": "code",
   "execution_count": 18,
   "id": "c921adee",
   "metadata": {},
   "outputs": [
    {
     "name": "stdout",
     "output_type": "stream",
     "text": [
      "enter the value of Celsius to be converted\n",
      "10\n",
      "50.0\n",
      "50.0\n",
      "10.0 Celsius is equal to 50.0 Fahrenheit\n"
     ]
    }
   ],
   "source": [
    "#2.Write a Python program to convert Celsius to Fahrenheit?\n",
    "\n",
    "print('enter the value of Celsius to be converted')\n",
    "Celsius = float(input())\n",
    "Fahrenheit = (Celsius*(9/5))+32\n",
    "print(Fahrenheit)\n",
    "c = str(Celsius)\n",
    "f = str(Fahrenheit)\n",
    "print (Fahrenheit)\n",
    "print (c + ' Celsius is equal to '+ f+ ' Fahrenheit')"
   ]
  },
  {
   "cell_type": "code",
   "execution_count": 20,
   "id": "13556c83",
   "metadata": {},
   "outputs": [
    {
     "name": "stdout",
     "output_type": "stream",
     "text": [
      "Enter the year\n",
      "1997\n",
      "Enter the month\n",
      "08\n",
      "    August 1997\n",
      "Mo Tu We Th Fr Sa Su\n",
      "             1  2  3\n",
      " 4  5  6  7  8  9 10\n",
      "11 12 13 14 15 16 17\n",
      "18 19 20 21 22 23 24\n",
      "25 26 27 28 29 30 31\n",
      "\n"
     ]
    }
   ],
   "source": [
    "#3. Write a Python program to display calendar?\n",
    "import calendar\n",
    "print('Enter the year')\n",
    "\n",
    "yy = int(input())\n",
    "\n",
    "print('Enter the month')\n",
    "\n",
    "mm = int(input())\n",
    "\n",
    "print(calendar.month(yy,mm))"
   ]
  },
  {
   "cell_type": "code",
   "execution_count": 35,
   "id": "b8fbd54f",
   "metadata": {},
   "outputs": [
    {
     "name": "stdout",
     "output_type": "stream",
     "text": [
      "1.2\n",
      "2.2\n",
      "3.2\n",
      "The solution are (-0.9166666666666667-1.3514395616855712j) and (-0.9166666666666667+1.3514395616855712j)\n"
     ]
    }
   ],
   "source": [
    "# 4 Write a Python program to swap two variables without temp variable?\n",
    "import cmath\n",
    "\n",
    "a = float(input())\n",
    "b = float(input())\n",
    "c = float(input())\n",
    "\n",
    "disc = (b**2)-4*a*c\n",
    "\n",
    "Solution_1  = (-b-cmath.sqrt(disc))/(2*a)\n",
    "Solution_2  = (-b+cmath.sqrt(disc))/(2*a)\n",
    "\n",
    "\n",
    "print('The solution are {0} and {1}'.format(Solution_1,Solution_2))"
   ]
  },
  {
   "cell_type": "code",
   "execution_count": 40,
   "id": "fff09f62",
   "metadata": {},
   "outputs": [
    {
     "name": "stdout",
     "output_type": "stream",
     "text": [
      "1\n",
      "3\n",
      "result after swapping : \n",
      "3\n",
      "1\n"
     ]
    }
   ],
   "source": [
    "#5. Write a Python program to swap two variables without temp variable?\n",
    "a = input()\n",
    "b = input()\n",
    "a,b =b,a\n",
    "print('result after swapping : ')\n",
    "print(a)\n",
    "print(b)"
   ]
  },
  {
   "cell_type": "code",
   "execution_count": null,
   "id": "186d6862",
   "metadata": {},
   "outputs": [],
   "source": []
  }
 ],
 "metadata": {
  "kernelspec": {
   "display_name": "Python 3 (ipykernel)",
   "language": "python",
   "name": "python3"
  },
  "language_info": {
   "codemirror_mode": {
    "name": "ipython",
    "version": 3
   },
   "file_extension": ".py",
   "mimetype": "text/x-python",
   "name": "python",
   "nbconvert_exporter": "python",
   "pygments_lexer": "ipython3",
   "version": "3.10.9"
  }
 },
 "nbformat": 4,
 "nbformat_minor": 5
}
